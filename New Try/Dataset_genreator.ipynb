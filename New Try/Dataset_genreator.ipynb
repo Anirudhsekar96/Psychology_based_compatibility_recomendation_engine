{
 "cells": [
  {
   "cell_type": "code",
   "execution_count": 1,
   "metadata": {
    "collapsed": true
   },
   "outputs": [],
   "source": [
    "import matplotlib.pyplot as plt\n",
    "import pandas as pd\n",
    "import numpy as np"
   ]
  },
  {
   "cell_type": "markdown",
   "metadata": {},
   "source": [
    "# Importing Main Libraries such as matplotlib, pandas and NUMPY"
   ]
  },
  {
   "cell_type": "code",
   "execution_count": 15,
   "metadata": {
    "collapsed": true
   },
   "outputs": [],
   "source": [
    "ambition= []\n",
    "adaptibility= []\n",
    "faith = []\n",
    "emotional = []\n",
    "decisivness = []\n",
    "dominance =[]"
   ]
  },
  {
   "cell_type": "markdown",
   "metadata": {},
   "source": [
    "# Creating sepreate Lists for diffrent attributes.\n",
    "\n",
    "## The attributes will be sorted in alphabetic order later automatically in the dataframe"
   ]
  },
  {
   "cell_type": "code",
   "execution_count": 16,
   "metadata": {},
   "outputs": [],
   "source": [
    "for i in range(1,1000,1):\n",
    "    \n",
    "    x1 = int(np.random.randint(1,10))\n",
    "    x2 = int(np.random.randint(1,10))\n",
    "    x3 = int(np.random.randint(1,10))\n",
    "    x4 = int(np.random.randint(1,10))\n",
    "    x5 = int(np.random.randint(1,10))\n",
    "    x6 = int(np.random.randint(1,10))\n",
    "\n",
    "    \n",
    "    ambition.append(x1)\n",
    "    dominance.append(x2)\n",
    "    decisivness.append(x3)\n",
    "    adaptibility.append(x4)\n",
    "    faith.append(x5)\n",
    "    emotional.append(x6)\n"
   ]
  },
  {
   "cell_type": "markdown",
   "metadata": {},
   "source": [
    "# Creating a loop to intitialize the variable values for the diffrent attributes\n",
    "\n",
    "## we select only the integer values ranging from [1,10) i.e. including 1 to excluding 10\n",
    "\n",
    "## we then append the values to a list to feed it into a data frame"
   ]
  },
  {
   "cell_type": "code",
   "execution_count": 17,
   "metadata": {
    "collapsed": true
   },
   "outputs": [],
   "source": [
    "data_full = { 'Ambition' : ambition , 'Dominance' : dominance , 'Decisivness' : decisivness , 'Adaptibility' : adaptibility ,'Faith' : faith , 'Emotional' : emotional }"
   ]
  },
  {
   "cell_type": "markdown",
   "metadata": {},
   "source": [
    "### Creating an Array with the combination of lists to feed into the Data Frame "
   ]
  },
  {
   "cell_type": "code",
   "execution_count": 18,
   "metadata": {
    "collapsed": true
   },
   "outputs": [],
   "source": [
    "df = pd.DataFrame(data=data_full)"
   ]
  },
  {
   "cell_type": "markdown",
   "metadata": {},
   "source": [
    "## Creating a Data Frame from the Array created just before"
   ]
  },
  {
   "cell_type": "code",
   "execution_count": 19,
   "metadata": {
    "collapsed": true
   },
   "outputs": [],
   "source": [
    "df.to_csv('Research_dataset.csv',Index=False)"
   ]
  },
  {
   "cell_type": "markdown",
   "metadata": {},
   "source": [
    "# Saving to the directory by the name Research_dataset.csv while exxcluding the index because it becomes redundant when we access the CSV file later\n",
    "\n",
    "### We would be working with this CSV file only in future"
   ]
  },
  {
   "cell_type": "code",
   "execution_count": 21,
   "metadata": {},
   "outputs": [
    {
     "data": {
      "text/html": [
       "<div>\n",
       "<table border=\"1\" class=\"dataframe\">\n",
       "  <thead>\n",
       "    <tr style=\"text-align: right;\">\n",
       "      <th></th>\n",
       "      <th>Adaptibility</th>\n",
       "      <th>Ambition</th>\n",
       "      <th>Decisivness</th>\n",
       "      <th>Dominance</th>\n",
       "      <th>Emotional</th>\n",
       "      <th>Faith</th>\n",
       "    </tr>\n",
       "  </thead>\n",
       "  <tbody>\n",
       "    <tr>\n",
       "      <th>0</th>\n",
       "      <td>1</td>\n",
       "      <td>7</td>\n",
       "      <td>8</td>\n",
       "      <td>5</td>\n",
       "      <td>3</td>\n",
       "      <td>6</td>\n",
       "    </tr>\n",
       "    <tr>\n",
       "      <th>1</th>\n",
       "      <td>1</td>\n",
       "      <td>9</td>\n",
       "      <td>3</td>\n",
       "      <td>2</td>\n",
       "      <td>6</td>\n",
       "      <td>6</td>\n",
       "    </tr>\n",
       "    <tr>\n",
       "      <th>2</th>\n",
       "      <td>9</td>\n",
       "      <td>7</td>\n",
       "      <td>1</td>\n",
       "      <td>2</td>\n",
       "      <td>8</td>\n",
       "      <td>5</td>\n",
       "    </tr>\n",
       "    <tr>\n",
       "      <th>3</th>\n",
       "      <td>7</td>\n",
       "      <td>4</td>\n",
       "      <td>6</td>\n",
       "      <td>3</td>\n",
       "      <td>4</td>\n",
       "      <td>6</td>\n",
       "    </tr>\n",
       "    <tr>\n",
       "      <th>4</th>\n",
       "      <td>3</td>\n",
       "      <td>3</td>\n",
       "      <td>5</td>\n",
       "      <td>7</td>\n",
       "      <td>4</td>\n",
       "      <td>2</td>\n",
       "    </tr>\n",
       "  </tbody>\n",
       "</table>\n",
       "</div>"
      ],
      "text/plain": [
       "   Adaptibility  Ambition  Decisivness  Dominance  Emotional  Faith\n",
       "0             1         7            8          5          3      6\n",
       "1             1         9            3          2          6      6\n",
       "2             9         7            1          2          8      5\n",
       "3             7         4            6          3          4      6\n",
       "4             3         3            5          7          4      2"
      ]
     },
     "execution_count": 21,
     "metadata": {},
     "output_type": "execute_result"
    }
   ],
   "source": [
    "df.head()"
   ]
  },
  {
   "cell_type": "markdown",
   "metadata": {},
   "source": [
    "### Checking the contents of the Data Frame one Last time"
   ]
  },
  {
   "cell_type": "code",
   "execution_count": null,
   "metadata": {
    "collapsed": true
   },
   "outputs": [],
   "source": []
  }
 ],
 "metadata": {
  "kernelspec": {
   "display_name": "Python [Root]",
   "language": "python",
   "name": "Python [Root]"
  },
  "language_info": {
   "codemirror_mode": {
    "name": "ipython",
    "version": 2
   },
   "file_extension": ".py",
   "mimetype": "text/x-python",
   "name": "python",
   "nbconvert_exporter": "python",
   "pygments_lexer": "ipython2",
   "version": "2.7.11"
  }
 },
 "nbformat": 4,
 "nbformat_minor": 1
}
