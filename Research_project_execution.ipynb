{
 "cells": [
  {
   "cell_type": "code",
   "execution_count": 20,
   "metadata": {
    "collapsed": true
   },
   "outputs": [],
   "source": [
    "import pandas as pd\n",
    "import numpy as np"
   ]
  },
  {
   "cell_type": "markdown",
   "metadata": {},
   "source": [
    "Importing the Neccessary Files"
   ]
  },
  {
   "cell_type": "code",
   "execution_count": 31,
   "metadata": {
    "collapsed": false
   },
   "outputs": [],
   "source": [
    "df = pd.read_csv('Research_dataset.csv')\n",
    "\n",
    "df.drop(df.columns[[0]], axis=1,inplace=True)\n"
   ]
  },
  {
   "cell_type": "markdown",
   "metadata": {},
   "source": [
    "Getting the DataFrame from the csv file"
   ]
  },
  {
   "cell_type": "code",
   "execution_count": 40,
   "metadata": {
    "collapsed": false
   },
   "outputs": [],
   "source": [
    "s = (1000,1000)\n",
    "\n",
    "v = np.zeros(s)\n",
    "\n",
    "val = pd.DataFrame(data=v)"
   ]
  },
  {
   "cell_type": "markdown",
   "metadata": {},
   "source": [
    "Creating a 1000 X 1000 matrix of Zeroes"
   ]
  },
  {
   "cell_type": "code",
   "execution_count": 33,
   "metadata": {
    "collapsed": false
   },
   "outputs": [],
   "source": [
    "\n",
    "def Dominant(dff1,dff2):\n",
    "    \n",
    "    x11 = dff1.Ambition\n",
    "    x12 = dff1.Dominance\n",
    "    x13 = dff1.Decisivness\n",
    "    x14 = dff1.Adaptibility\n",
    "    x15 = dff1.Faith\n",
    "    x16 = dff1.Emotional\n",
    "    \n",
    "    x21 = dff2.Ambition\n",
    "    x22 = dff2.Dominance\n",
    "    x23 = dff2.Decisivness\n",
    "    x24 = dff2.Adaptibility\n",
    "    x25 = dff2.Faith\n",
    "    x26 = dff2.Emotional\n",
    "    \n",
    "    forumla = ( (x11 + x12 + x13) + 30 - (x14 + x15 + x16) + 30 - (x21 + x22 + x23) + (x24 + x25 + x26) ) / (2*6*10.00)\n",
    "    \n",
    "    if(formula>0.55):\n",
    "        return formula\n",
    "    else:\n",
    "        return 0\n",
    "\n",
    "\n"
   ]
  },
  {
   "cell_type": "code",
   "execution_count": 34,
   "metadata": {
    "collapsed": true
   },
   "outputs": [],
   "source": [
    "\n",
    "def Influence(dff1,dff2):\n",
    "    \n",
    "    x11 = dff1.Ambition\n",
    "    x12 = dff1.Dominance\n",
    "    x13 = dff1.Decisivness\n",
    "    x14 = dff1.Adaptibility\n",
    "    x15 = dff1.Faith\n",
    "    x16 = dff1.Emotional\n",
    "    \n",
    "    x21 = dff2.Ambition\n",
    "    x22 = dff2.Dominance\n",
    "    x23 = dff2.Decisivness\n",
    "    x24 = dff2.Adaptibility\n",
    "    x25 = dff2.Faith\n",
    "    x26 = dff2.Emotional\n",
    "    \n",
    "    forumla = ( (x11 + x12 + x13) + (x14 + x15 + x16) + 30 - (x21 + x22 + x23) + 30 - (x24 + x25 + x26) ) / (2*6*10.00)\n",
    "    \n",
    "    if(formula>0.55):\n",
    "        return formula\n",
    "    else:\n",
    "        return 0\n"
   ]
  },
  {
   "cell_type": "code",
   "execution_count": 35,
   "metadata": {
    "collapsed": true
   },
   "outputs": [],
   "source": [
    "\n",
    "def Compliance(dff1,dff2):\n",
    "    \n",
    "    x11 = dff1.Ambition\n",
    "    x12 = dff1.Dominance\n",
    "    x13 = dff1.Decisivness\n",
    "    x14 = dff1.Adaptibility\n",
    "    x15 = dff1.Faith\n",
    "    x16 = dff1.Emotional\n",
    "    \n",
    "    x21 = dff2.Ambition\n",
    "    x22 = dff2.Dominance\n",
    "    x23 = dff2.Decisivness\n",
    "    x24 = dff2.Adaptibility\n",
    "    x25 = dff2.Faith\n",
    "    x26 = dff2.Emotional\n",
    "    \n",
    "    forumla = ( 30 -(x11 + x12 + x13) + 30 - (x14 + x15 + x16) + (x21 + x22 + x23) + (x24 + x25 + x26) ) / (2*6*10.00)\n",
    "    \n",
    "    if(formula>0.55):\n",
    "        return formula\n",
    "    else:\n",
    "        return 0\n"
   ]
  },
  {
   "cell_type": "code",
   "execution_count": 36,
   "metadata": {
    "collapsed": true
   },
   "outputs": [],
   "source": [
    "\n",
    "def Steady(dff1,dff2):\n",
    "    \n",
    "    x11 = dff1.Ambition\n",
    "    x12 = dff1.Dominance\n",
    "    x13 = dff1.Decisivness\n",
    "    x14 = dff1.Adaptibility\n",
    "    x15 = dff1.Faith\n",
    "    x16 = dff1.Emotional\n",
    "    \n",
    "    x21 = dff2.Ambition\n",
    "    x22 = dff2.Dominance\n",
    "    x23 = dff2.Decisivness\n",
    "    x24 = dff2.Adaptibility\n",
    "    x25 = dff2.Faith\n",
    "    x26 = dff2.Emotional\n",
    "    \n",
    "    forumla = (30 - (x11 + x12 + x13) + (x14 + x15 + x16) + (x21 + x22 + x23) + 30 - (x24 + x25 + x26) ) / (2*6*10.00)\n",
    "    \n",
    "    if(formula>0.55):\n",
    "        return formula\n",
    "    else:\n",
    "        return 0\n"
   ]
  },
  {
   "cell_type": "code",
   "execution_count": 37,
   "metadata": {
    "collapsed": false
   },
   "outputs": [
    {
     "name": "stdout",
     "output_type": "stream",
     "text": [
      "     Active  Adaptibility  Ambition  Decisivness  Dominance  Emotional  Faith  \\\n",
      "0         5             9         4            3          9          4      3   \n",
      "1         6             7         3            5          5          2      4   \n",
      "2         4             9         1            4          9          3      8   \n",
      "3         5             4         1            8          3          8      3   \n",
      "4         5             1         1            6          3          9      6   \n",
      "5         7             4         3            3          5          4      1   \n",
      "6         6             5         6            8          3          7      2   \n",
      "7         4             9         1            9          2          6      4   \n",
      "8         5             8         3            2          7          8      1   \n",
      "9         5             7         8            2          2          5      3   \n",
      "10        7             4         1            1          2          5      1   \n",
      "11        4             3         6            6          7          8      9   \n",
      "12        4             9         8            9          2          5      4   \n",
      "13        6             2         4            4          2          9      3   \n",
      "14        2             7         4            4          9          9      9   \n",
      "15        4             3         1            6          5          9      7   \n",
      "16        6             6         5            9          9          4      4   \n",
      "17        4             4         6            5          8          8      8   \n",
      "18        6             4         5            7          9          8      2   \n",
      "19        3             7         8            3          6          6      9   \n",
      "20        5             5         3            5          3          9      1   \n",
      "21        5             3         2            5          7          4      9   \n",
      "22        5             4         5            3          3          6      7   \n",
      "23        6             7         5            9          6          4      2   \n",
      "24        5             3         6            4          5          3      9   \n",
      "25        3             8         9            6          5          8      6   \n",
      "26        7             4         5            3          3          5      2   \n",
      "27        5             6         6            1          9          6      3   \n",
      "28        6             1         6            1          2          4      8   \n",
      "29        4             4         7            1          5          8      6   \n",
      "..      ...           ...       ...          ...        ...        ...    ...   \n",
      "969       3             5         9            2          4          8      8   \n",
      "970       6             6         7            3          4          1      5   \n",
      "971       4             8         1            4          9          5      5   \n",
      "972       4             4         5            2          8          8      8   \n",
      "973       6             6         1            3          3          1      5   \n",
      "974       4             9         4            4          1          5      5   \n",
      "975       4             8         3            1          3          6      4   \n",
      "976       5             3         7            1          1          7      7   \n",
      "977       5             2         9            5          5          6      8   \n",
      "978       8             1         9            8          3          4      1   \n",
      "979       3             8         6            7          1          6      9   \n",
      "980       5             9         3            3          3          2      5   \n",
      "981       3             6         9            5          2          7      8   \n",
      "982       6             3         4            1          3          7      2   \n",
      "983       7             6         9            9          9          1      3   \n",
      "984       5             8         6            2          1          3      6   \n",
      "985       5             4         1            1          7          8      5   \n",
      "986       4             7         8            8          5          7      4   \n",
      "987       6             4         5            5          2          3      7   \n",
      "988       7             2         2            5          2          2      6   \n",
      "989       4             4         4            1          6          8      6   \n",
      "990       5             5         7            4          4          5      7   \n",
      "991       4             7         5            7          1          7      5   \n",
      "992       8             1         3            6          4          2      5   \n",
      "993       4             7         3            5          4          5      7   \n",
      "994       5             1         1            8          9          5      9   \n",
      "995       4             5         7            1          4          6      9   \n",
      "996       3             9         1            1          8          9      4   \n",
      "997       6             1         8            1          7          8      3   \n",
      "998       5             8         2            4          9          8      1   \n",
      "\n",
      "     Task  \n",
      "0       5  \n",
      "1       4  \n",
      "2       4  \n",
      "3       4  \n",
      "4       3  \n",
      "5       3  \n",
      "6       5  \n",
      "7       4  \n",
      "8       4  \n",
      "9       4  \n",
      "10      1  \n",
      "11      6  \n",
      "12      6  \n",
      "13      3  \n",
      "14      5  \n",
      "15      4  \n",
      "16      7  \n",
      "17      6  \n",
      "18      7  \n",
      "19      5  \n",
      "20      3  \n",
      "21      4  \n",
      "22      3  \n",
      "23      6  \n",
      "24      5  \n",
      "25      6  \n",
      "26      3  \n",
      "27      5  \n",
      "28      3  \n",
      "29      4  \n",
      "..    ...  \n",
      "969     5  \n",
      "970     4  \n",
      "971     4  \n",
      "972     5  \n",
      "973     2  \n",
      "974     3  \n",
      "975     2  \n",
      "976     3  \n",
      "977     6  \n",
      "978     6  \n",
      "979     4  \n",
      "980     3  \n",
      "981     5  \n",
      "982     2  \n",
      "983     9  \n",
      "984     3  \n",
      "985     3  \n",
      "986     7  \n",
      "987     4  \n",
      "988     3  \n",
      "989     3  \n",
      "990     5  \n",
      "991     4  \n",
      "992     4  \n",
      "993     4  \n",
      "994     6  \n",
      "995     4  \n",
      "996     3  \n",
      "997     5  \n",
      "998     5  \n",
      "\n",
      "[999 rows x 8 columns]\n"
     ]
    }
   ],
   "source": [
    "print df"
   ]
  },
  {
   "cell_type": "code",
   "execution_count": 49,
   "metadata": {
    "collapsed": false
   },
   "outputs": [
    {
     "ename": "KeyError",
     "evalue": "1",
     "output_type": "error",
     "traceback": [
      "\u001b[1;31m---------------------------------------------------------------------------\u001b[0m",
      "\u001b[1;31mKeyError\u001b[0m                                  Traceback (most recent call last)",
      "\u001b[1;32m<ipython-input-49-549b44694b39>\u001b[0m in \u001b[0;36m<module>\u001b[1;34m()\u001b[0m\n\u001b[0;32m     24\u001b[0m             \u001b[1;32mif\u001b[0m\u001b[1;33m(\u001b[0m\u001b[0mdf\u001b[0m\u001b[1;33m.\u001b[0m\u001b[0miloc\u001b[0m\u001b[1;33m[\u001b[0m\u001b[0mi\u001b[0m\u001b[1;33m,\u001b[0m\u001b[1;36m0\u001b[0m\u001b[1;33m]\u001b[0m\u001b[1;33m>\u001b[0m\u001b[1;36m5\u001b[0m\u001b[1;33m)\u001b[0m\u001b[1;33m:\u001b[0m\u001b[1;33m\u001b[0m\u001b[0m\n\u001b[0;32m     25\u001b[0m \u001b[1;33m\u001b[0m\u001b[0m\n\u001b[1;32m---> 26\u001b[1;33m                 \u001b[0mv\u001b[0m\u001b[1;33m[\u001b[0m\u001b[0mi\u001b[0m\u001b[1;33m,\u001b[0m\u001b[0mj\u001b[0m\u001b[1;33m]\u001b[0m \u001b[1;33m=\u001b[0m \u001b[0mInfluence\u001b[0m\u001b[1;33m(\u001b[0m\u001b[0mdf\u001b[0m\u001b[1;33m[\u001b[0m\u001b[0mi\u001b[0m\u001b[1;33m]\u001b[0m\u001b[1;33m,\u001b[0m\u001b[0mdf\u001b[0m\u001b[1;33m[\u001b[0m\u001b[0mj\u001b[0m\u001b[1;33m]\u001b[0m\u001b[1;33m)\u001b[0m\u001b[1;33m\u001b[0m\u001b[0m\n\u001b[0m\u001b[0;32m     27\u001b[0m \u001b[1;33m\u001b[0m\u001b[0m\n\u001b[0;32m     28\u001b[0m             \u001b[1;32melif\u001b[0m\u001b[1;33m(\u001b[0m\u001b[0mdf\u001b[0m\u001b[1;33m.\u001b[0m\u001b[0miloc\u001b[0m\u001b[1;33m[\u001b[0m\u001b[0mi\u001b[0m\u001b[1;33m,\u001b[0m\u001b[1;36m0\u001b[0m\u001b[1;33m]\u001b[0m\u001b[1;33m<\u001b[0m\u001b[1;36m5\u001b[0m\u001b[1;33m)\u001b[0m\u001b[1;33m:\u001b[0m\u001b[1;33m\u001b[0m\u001b[0m\n",
      "\u001b[1;32mC:\\Anaconda2\\lib\\site-packages\\pandas\\core\\frame.pyc\u001b[0m in \u001b[0;36m__getitem__\u001b[1;34m(self, key)\u001b[0m\n\u001b[0;32m   1995\u001b[0m             \u001b[1;32mreturn\u001b[0m \u001b[0mself\u001b[0m\u001b[1;33m.\u001b[0m\u001b[0m_getitem_multilevel\u001b[0m\u001b[1;33m(\u001b[0m\u001b[0mkey\u001b[0m\u001b[1;33m)\u001b[0m\u001b[1;33m\u001b[0m\u001b[0m\n\u001b[0;32m   1996\u001b[0m         \u001b[1;32melse\u001b[0m\u001b[1;33m:\u001b[0m\u001b[1;33m\u001b[0m\u001b[0m\n\u001b[1;32m-> 1997\u001b[1;33m             \u001b[1;32mreturn\u001b[0m \u001b[0mself\u001b[0m\u001b[1;33m.\u001b[0m\u001b[0m_getitem_column\u001b[0m\u001b[1;33m(\u001b[0m\u001b[0mkey\u001b[0m\u001b[1;33m)\u001b[0m\u001b[1;33m\u001b[0m\u001b[0m\n\u001b[0m\u001b[0;32m   1998\u001b[0m \u001b[1;33m\u001b[0m\u001b[0m\n\u001b[0;32m   1999\u001b[0m     \u001b[1;32mdef\u001b[0m \u001b[0m_getitem_column\u001b[0m\u001b[1;33m(\u001b[0m\u001b[0mself\u001b[0m\u001b[1;33m,\u001b[0m \u001b[0mkey\u001b[0m\u001b[1;33m)\u001b[0m\u001b[1;33m:\u001b[0m\u001b[1;33m\u001b[0m\u001b[0m\n",
      "\u001b[1;32mC:\\Anaconda2\\lib\\site-packages\\pandas\\core\\frame.pyc\u001b[0m in \u001b[0;36m_getitem_column\u001b[1;34m(self, key)\u001b[0m\n\u001b[0;32m   2002\u001b[0m         \u001b[1;31m# get column\u001b[0m\u001b[1;33m\u001b[0m\u001b[1;33m\u001b[0m\u001b[0m\n\u001b[0;32m   2003\u001b[0m         \u001b[1;32mif\u001b[0m \u001b[0mself\u001b[0m\u001b[1;33m.\u001b[0m\u001b[0mcolumns\u001b[0m\u001b[1;33m.\u001b[0m\u001b[0mis_unique\u001b[0m\u001b[1;33m:\u001b[0m\u001b[1;33m\u001b[0m\u001b[0m\n\u001b[1;32m-> 2004\u001b[1;33m             \u001b[1;32mreturn\u001b[0m \u001b[0mself\u001b[0m\u001b[1;33m.\u001b[0m\u001b[0m_get_item_cache\u001b[0m\u001b[1;33m(\u001b[0m\u001b[0mkey\u001b[0m\u001b[1;33m)\u001b[0m\u001b[1;33m\u001b[0m\u001b[0m\n\u001b[0m\u001b[0;32m   2005\u001b[0m \u001b[1;33m\u001b[0m\u001b[0m\n\u001b[0;32m   2006\u001b[0m         \u001b[1;31m# duplicate columns & possible reduce dimensionality\u001b[0m\u001b[1;33m\u001b[0m\u001b[1;33m\u001b[0m\u001b[0m\n",
      "\u001b[1;32mC:\\Anaconda2\\lib\\site-packages\\pandas\\core\\generic.pyc\u001b[0m in \u001b[0;36m_get_item_cache\u001b[1;34m(self, item)\u001b[0m\n\u001b[0;32m   1348\u001b[0m         \u001b[0mres\u001b[0m \u001b[1;33m=\u001b[0m \u001b[0mcache\u001b[0m\u001b[1;33m.\u001b[0m\u001b[0mget\u001b[0m\u001b[1;33m(\u001b[0m\u001b[0mitem\u001b[0m\u001b[1;33m)\u001b[0m\u001b[1;33m\u001b[0m\u001b[0m\n\u001b[0;32m   1349\u001b[0m         \u001b[1;32mif\u001b[0m \u001b[0mres\u001b[0m \u001b[1;32mis\u001b[0m \u001b[0mNone\u001b[0m\u001b[1;33m:\u001b[0m\u001b[1;33m\u001b[0m\u001b[0m\n\u001b[1;32m-> 1350\u001b[1;33m             \u001b[0mvalues\u001b[0m \u001b[1;33m=\u001b[0m \u001b[0mself\u001b[0m\u001b[1;33m.\u001b[0m\u001b[0m_data\u001b[0m\u001b[1;33m.\u001b[0m\u001b[0mget\u001b[0m\u001b[1;33m(\u001b[0m\u001b[0mitem\u001b[0m\u001b[1;33m)\u001b[0m\u001b[1;33m\u001b[0m\u001b[0m\n\u001b[0m\u001b[0;32m   1351\u001b[0m             \u001b[0mres\u001b[0m \u001b[1;33m=\u001b[0m \u001b[0mself\u001b[0m\u001b[1;33m.\u001b[0m\u001b[0m_box_item_values\u001b[0m\u001b[1;33m(\u001b[0m\u001b[0mitem\u001b[0m\u001b[1;33m,\u001b[0m \u001b[0mvalues\u001b[0m\u001b[1;33m)\u001b[0m\u001b[1;33m\u001b[0m\u001b[0m\n\u001b[0;32m   1352\u001b[0m             \u001b[0mcache\u001b[0m\u001b[1;33m[\u001b[0m\u001b[0mitem\u001b[0m\u001b[1;33m]\u001b[0m \u001b[1;33m=\u001b[0m \u001b[0mres\u001b[0m\u001b[1;33m\u001b[0m\u001b[0m\n",
      "\u001b[1;32mC:\\Anaconda2\\lib\\site-packages\\pandas\\core\\internals.pyc\u001b[0m in \u001b[0;36mget\u001b[1;34m(self, item, fastpath)\u001b[0m\n\u001b[0;32m   3288\u001b[0m \u001b[1;33m\u001b[0m\u001b[0m\n\u001b[0;32m   3289\u001b[0m             \u001b[1;32mif\u001b[0m \u001b[1;32mnot\u001b[0m \u001b[0misnull\u001b[0m\u001b[1;33m(\u001b[0m\u001b[0mitem\u001b[0m\u001b[1;33m)\u001b[0m\u001b[1;33m:\u001b[0m\u001b[1;33m\u001b[0m\u001b[0m\n\u001b[1;32m-> 3290\u001b[1;33m                 \u001b[0mloc\u001b[0m \u001b[1;33m=\u001b[0m \u001b[0mself\u001b[0m\u001b[1;33m.\u001b[0m\u001b[0mitems\u001b[0m\u001b[1;33m.\u001b[0m\u001b[0mget_loc\u001b[0m\u001b[1;33m(\u001b[0m\u001b[0mitem\u001b[0m\u001b[1;33m)\u001b[0m\u001b[1;33m\u001b[0m\u001b[0m\n\u001b[0m\u001b[0;32m   3291\u001b[0m             \u001b[1;32melse\u001b[0m\u001b[1;33m:\u001b[0m\u001b[1;33m\u001b[0m\u001b[0m\n\u001b[0;32m   3292\u001b[0m                 \u001b[0mindexer\u001b[0m \u001b[1;33m=\u001b[0m \u001b[0mnp\u001b[0m\u001b[1;33m.\u001b[0m\u001b[0marange\u001b[0m\u001b[1;33m(\u001b[0m\u001b[0mlen\u001b[0m\u001b[1;33m(\u001b[0m\u001b[0mself\u001b[0m\u001b[1;33m.\u001b[0m\u001b[0mitems\u001b[0m\u001b[1;33m)\u001b[0m\u001b[1;33m)\u001b[0m\u001b[1;33m[\u001b[0m\u001b[0misnull\u001b[0m\u001b[1;33m(\u001b[0m\u001b[0mself\u001b[0m\u001b[1;33m.\u001b[0m\u001b[0mitems\u001b[0m\u001b[1;33m)\u001b[0m\u001b[1;33m]\u001b[0m\u001b[1;33m\u001b[0m\u001b[0m\n",
      "\u001b[1;32mC:\\Anaconda2\\lib\\site-packages\\pandas\\indexes\\base.pyc\u001b[0m in \u001b[0;36mget_loc\u001b[1;34m(self, key, method, tolerance)\u001b[0m\n\u001b[0;32m   1945\u001b[0m                 \u001b[1;32mreturn\u001b[0m \u001b[0mself\u001b[0m\u001b[1;33m.\u001b[0m\u001b[0m_engine\u001b[0m\u001b[1;33m.\u001b[0m\u001b[0mget_loc\u001b[0m\u001b[1;33m(\u001b[0m\u001b[0mkey\u001b[0m\u001b[1;33m)\u001b[0m\u001b[1;33m\u001b[0m\u001b[0m\n\u001b[0;32m   1946\u001b[0m             \u001b[1;32mexcept\u001b[0m \u001b[0mKeyError\u001b[0m\u001b[1;33m:\u001b[0m\u001b[1;33m\u001b[0m\u001b[0m\n\u001b[1;32m-> 1947\u001b[1;33m                 \u001b[1;32mreturn\u001b[0m \u001b[0mself\u001b[0m\u001b[1;33m.\u001b[0m\u001b[0m_engine\u001b[0m\u001b[1;33m.\u001b[0m\u001b[0mget_loc\u001b[0m\u001b[1;33m(\u001b[0m\u001b[0mself\u001b[0m\u001b[1;33m.\u001b[0m\u001b[0m_maybe_cast_indexer\u001b[0m\u001b[1;33m(\u001b[0m\u001b[0mkey\u001b[0m\u001b[1;33m)\u001b[0m\u001b[1;33m)\u001b[0m\u001b[1;33m\u001b[0m\u001b[0m\n\u001b[0m\u001b[0;32m   1948\u001b[0m \u001b[1;33m\u001b[0m\u001b[0m\n\u001b[0;32m   1949\u001b[0m         \u001b[0mindexer\u001b[0m \u001b[1;33m=\u001b[0m \u001b[0mself\u001b[0m\u001b[1;33m.\u001b[0m\u001b[0mget_indexer\u001b[0m\u001b[1;33m(\u001b[0m\u001b[1;33m[\u001b[0m\u001b[0mkey\u001b[0m\u001b[1;33m]\u001b[0m\u001b[1;33m,\u001b[0m \u001b[0mmethod\u001b[0m\u001b[1;33m=\u001b[0m\u001b[0mmethod\u001b[0m\u001b[1;33m,\u001b[0m \u001b[0mtolerance\u001b[0m\u001b[1;33m=\u001b[0m\u001b[0mtolerance\u001b[0m\u001b[1;33m)\u001b[0m\u001b[1;33m\u001b[0m\u001b[0m\n",
      "\u001b[1;32mpandas\\index.pyx\u001b[0m in \u001b[0;36mpandas.index.IndexEngine.get_loc (pandas\\index.c:4154)\u001b[1;34m()\u001b[0m\n",
      "\u001b[1;32mpandas\\index.pyx\u001b[0m in \u001b[0;36mpandas.index.IndexEngine.get_loc (pandas\\index.c:4018)\u001b[1;34m()\u001b[0m\n",
      "\u001b[1;32mpandas\\hashtable.pyx\u001b[0m in \u001b[0;36mpandas.hashtable.PyObjectHashTable.get_item (pandas\\hashtable.c:12368)\u001b[1;34m()\u001b[0m\n",
      "\u001b[1;32mpandas\\hashtable.pyx\u001b[0m in \u001b[0;36mpandas.hashtable.PyObjectHashTable.get_item (pandas\\hashtable.c:12322)\u001b[1;34m()\u001b[0m\n",
      "\u001b[1;31mKeyError\u001b[0m: 1"
     ]
    }
   ],
   "source": [
    "\n",
    "\n",
    "\n",
    "import time\n",
    "start_time = time.time()\n",
    "    \n",
    "\n",
    "for i in range(1,1000):\n",
    "    \n",
    "    for j in range(1,1000):\n",
    "        \n",
    "        if(df.iloc[i,7] >5):\n",
    "            \n",
    "            if(df.iloc[i,0].values>5):\n",
    "                \n",
    "                v[i,j] = Dominant(df[i],df[j])\n",
    "            \n",
    "            elif(df.iloc[i,0]<5):\n",
    "                \n",
    "                v[i,j] = Compliance(df[i],df[j])\n",
    "        \n",
    "        elif(df.iloc[i,7]<5):\n",
    "            \n",
    "            if(df.iloc[i,0]>5):\n",
    "                \n",
    "                v[i,j] = Influence(df[i],df[j])\n",
    "            \n",
    "            elif(df.iloc[i,0]<5):\n",
    "                \n",
    "                v[i,j] = Steady(df[i],df[j])\n",
    "df.loc[i,j] = value\n",
    "                \n",
    "                \n",
    "\n",
    "end_time = time.time()\n",
    "print(\"--- %s seconds ---\" % ( end_time - start_time))"
   ]
  },
  {
   "cell_type": "code",
   "execution_count": null,
   "metadata": {
    "collapsed": true
   },
   "outputs": [],
   "source": []
  }
 ],
 "metadata": {
  "kernelspec": {
   "display_name": "Python [Root]",
   "language": "python",
   "name": "Python [Root]"
  },
  "language_info": {
   "codemirror_mode": {
    "name": "ipython",
    "version": 2
   },
   "file_extension": ".py",
   "mimetype": "text/x-python",
   "name": "python",
   "nbconvert_exporter": "python",
   "pygments_lexer": "ipython2",
   "version": "2.7.11"
  }
 },
 "nbformat": 4,
 "nbformat_minor": 0
}
