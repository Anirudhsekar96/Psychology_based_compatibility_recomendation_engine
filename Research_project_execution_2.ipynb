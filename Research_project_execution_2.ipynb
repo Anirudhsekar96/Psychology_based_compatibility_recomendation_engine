{
 "cells": [
  {
   "cell_type": "code",
   "execution_count": 1,
   "metadata": {
    "collapsed": true
   },
   "outputs": [],
   "source": [
    "import pandas as pd\n",
    "import numpy as np"
   ]
  },
  {
   "cell_type": "markdown",
   "metadata": {},
   "source": [
    "Importing the neccessary Library Files"
   ]
  },
  {
   "cell_type": "code",
   "execution_count": 2,
   "metadata": {
    "collapsed": true
   },
   "outputs": [],
   "source": [
    "df = pd.read_csv('Research_dataset.csv')\n",
    "\n",
    "df.drop(df.columns[[0]], axis=1,inplace=True)\n"
   ]
  },
  {
   "cell_type": "markdown",
   "metadata": {},
   "source": [
    "Importing the Data Set created earlier under the name of Research_dataset\n",
    "Dropping the column containing the Index as Index is re-made when the dataset is attached to the dataframe,hence avoiding duplication."
   ]
  },
  {
   "cell_type": "code",
   "execution_count": 3,
   "metadata": {
    "collapsed": true
   },
   "outputs": [],
   "source": [
    "s = (1000,1000)\n",
    "\n",
    "v = np.zeros(s)\n",
    "\n",
    "val = pd.DataFrame(data=v)"
   ]
  },
  {
   "cell_type": "markdown",
   "metadata": {},
   "source": [
    "Setting the dimensions of the Matrix as 1000 x 1000\n",
    "\n",
    "Creating a Zero Matrix (Matrix composed of only Zeroes) of the the Dimensions Given Above\n",
    "\n",
    "Creating a DataFrame from the Matrix Created above via Numpy"
   ]
  },
  {
   "cell_type": "code",
   "execution_count": null,
   "metadata": {
    "collapsed": true
   },
   "outputs": [],
   "source": [
    "\n",
    "def Dominant(dff1,dff2):\n",
    "    \n",
    "    x11 = dff1.Ambition\n",
    "    x12 = dff1.Dominance\n",
    "    x13 = dff1.Decisivness\n",
    "    x14 = dff1.Adaptibility\n",
    "    x15 = dff1.Faith\n",
    "    x16 = dff1.Emotional\n",
    "    \n",
    "    x21 = dff2.Ambition\n",
    "    x22 = dff2.Dominance\n",
    "    x23 = dff2.Decisivness\n",
    "    x24 = dff2.Adaptibility\n",
    "    x25 = dff2.Faith\n",
    "    x26 = dff2.Emotional\n",
    "    \n",
    "    forumla = ( (x11 + x12 + x13) + 30 - (x14 + x15 + x16) + 30 - (x21 + x22 + x23) + (x24 + x25 + x26) ) / (2*6*10.00)\n",
    "    \n",
    "    if(formula>0.55):\n",
    "        return formula\n",
    "    else:\n",
    "        return 0\n",
    "\n",
    "\n"
   ]
  },
  {
   "cell_type": "markdown",
   "metadata": {},
   "source": [
    "Creating a Function for Dominance"
   ]
  },
  {
   "cell_type": "code",
   "execution_count": 5,
   "metadata": {
    "collapsed": true
   },
   "outputs": [],
   "source": [
    "\n",
    "def Influence(dff1,dff2):\n",
    "    \n",
    "    x11 = dff1.Ambition\n",
    "    x12 = dff1.Dominance\n",
    "    x13 = dff1.Decisivness\n",
    "    x14 = dff1.Adaptibility\n",
    "    x15 = dff1.Faith\n",
    "    x16 = dff1.Emotional\n",
    "    \n",
    "    x21 = dff2.Ambition\n",
    "    x22 = dff2.Dominance\n",
    "    x23 = dff2.Decisivness\n",
    "    x24 = dff2.Adaptibility\n",
    "    x25 = dff2.Faith\n",
    "    x26 = dff2.Emotional\n",
    "    \n",
    "    forumla = ( (x11 + x12 + x13) + (x14 + x15 + x16) + 30 - (x21 + x22 + x23) + 30 - (x24 + x25 + x26) ) / (2*6*10.00)\n",
    "    \n",
    "    if(formula>0.55):\n",
    "        return formula\n",
    "    else:\n",
    "        return 0\n"
   ]
  },
  {
   "cell_type": "code",
   "execution_count": 6,
   "metadata": {
    "collapsed": true
   },
   "outputs": [],
   "source": [
    "\n",
    "def Compliance(dff1,dff2):\n",
    "    \n",
    "    x11 = dff1.Ambition\n",
    "    x12 = dff1.Dominance\n",
    "    x13 = dff1.Decisivness\n",
    "    x14 = dff1.Adaptibility\n",
    "    x15 = dff1.Faith\n",
    "    x16 = dff1.Emotional\n",
    "    \n",
    "    x21 = dff2.Ambition\n",
    "    x22 = dff2.Dominance\n",
    "    x23 = dff2.Decisivness\n",
    "    x24 = dff2.Adaptibility\n",
    "    x25 = dff2.Faith\n",
    "    x26 = dff2.Emotional\n",
    "    \n",
    "    forumla = ( 30 -(x11 + x12 + x13) + 30 - (x14 + x15 + x16) + (x21 + x22 + x23) + (x24 + x25 + x26) ) / (2*6*10.00)\n",
    "    \n",
    "    if(formula>0.55):\n",
    "        return formula\n",
    "    else:\n",
    "        return 0\n"
   ]
  },
  {
   "cell_type": "code",
   "execution_count": 7,
   "metadata": {
    "collapsed": true
   },
   "outputs": [],
   "source": [
    "\n",
    "def Steady(dff1,dff2):\n",
    "    \n",
    "    x11 = dff1.Ambition\n",
    "    x12 = dff1.Dominance\n",
    "    x13 = dff1.Decisivness\n",
    "    x14 = dff1.Adaptibility\n",
    "    x15 = dff1.Faith\n",
    "    x16 = dff1.Emotional\n",
    "    \n",
    "    x21 = dff2.Ambition\n",
    "    x22 = dff2.Dominance\n",
    "    x23 = dff2.Decisivness\n",
    "    x24 = dff2.Adaptibility\n",
    "    x25 = dff2.Faith\n",
    "    x26 = dff2.Emotional\n",
    "    \n",
    "    forumla = (30 - (x11 + x12 + x13) + (x14 + x15 + x16) + (x21 + x22 + x23) + 30 - (x24 + x25 + x26) ) / (2*6*10.00)\n",
    "    \n",
    "    if(formula>0.55):\n",
    "        return formula\n",
    "    else:\n",
    "        return 0\n"
   ]
  },
  {
   "cell_type": "code",
   "execution_count": 10,
   "metadata": {
    "collapsed": false
   },
   "outputs": [
    {
     "name": "stdout",
     "output_type": "stream",
     "text": [
      "--- 4913.62999988 seconds ---\n"
     ]
    }
   ],
   "source": [
    "\n",
    "\n",
    "\n",
    "-"
   ]
  },
  {
   "cell_type": "markdown",
   "metadata": {},
   "source": [
    "Creating a code for fitting in the utility values genreated from our Utility Genreating Function inside the 1000 x 1000 Matrix"
   ]
  },
  {
   "cell_type": "code",
   "execution_count": 11,
   "metadata": {
    "collapsed": true
   },
   "outputs": [],
   "source": [
    "val.to_csv('Utility_val.csv')"
   ]
  },
  {
   "cell_type": "markdown",
   "metadata": {},
   "source": [
    "Saving the Output to a CSV file named Utility_val.csv"
   ]
  },
  {
   "cell_type": "code",
   "execution_count": 12,
   "metadata": {
    "collapsed": false
   },
   "outputs": [
    {
     "data": {
      "text/html": [
       "<div>\n",
       "<table border=\"1\" class=\"dataframe\">\n",
       "  <thead>\n",
       "    <tr style=\"text-align: right;\">\n",
       "      <th></th>\n",
       "      <th>0</th>\n",
       "      <th>1</th>\n",
       "      <th>2</th>\n",
       "      <th>3</th>\n",
       "      <th>4</th>\n",
       "      <th>5</th>\n",
       "      <th>6</th>\n",
       "      <th>7</th>\n",
       "      <th>8</th>\n",
       "      <th>9</th>\n",
       "      <th>...</th>\n",
       "      <th>990</th>\n",
       "      <th>991</th>\n",
       "      <th>992</th>\n",
       "      <th>993</th>\n",
       "      <th>994</th>\n",
       "      <th>995</th>\n",
       "      <th>996</th>\n",
       "      <th>997</th>\n",
       "      <th>998</th>\n",
       "      <th>999</th>\n",
       "    </tr>\n",
       "  </thead>\n",
       "  <tbody>\n",
       "    <tr>\n",
       "      <th>count</th>\n",
       "      <td>1000.000000</td>\n",
       "      <td>1000.000000</td>\n",
       "      <td>1000.000000</td>\n",
       "      <td>1000.000000</td>\n",
       "      <td>1000.000000</td>\n",
       "      <td>1000.000000</td>\n",
       "      <td>1000.000000</td>\n",
       "      <td>1000.000000</td>\n",
       "      <td>1000.000000</td>\n",
       "      <td>1000.000000</td>\n",
       "      <td>...</td>\n",
       "      <td>1000.000000</td>\n",
       "      <td>1000.000000</td>\n",
       "      <td>1000.000000</td>\n",
       "      <td>1000.000000</td>\n",
       "      <td>1000.000000</td>\n",
       "      <td>1000.000000</td>\n",
       "      <td>1000.000000</td>\n",
       "      <td>1000.000000</td>\n",
       "      <td>1000.000000</td>\n",
       "      <td>1000.0</td>\n",
       "    </tr>\n",
       "    <tr>\n",
       "      <th>mean</th>\n",
       "      <td>0.278475</td>\n",
       "      <td>0.283375</td>\n",
       "      <td>0.277308</td>\n",
       "      <td>0.282992</td>\n",
       "      <td>0.284775</td>\n",
       "      <td>0.289075</td>\n",
       "      <td>0.278658</td>\n",
       "      <td>0.278658</td>\n",
       "      <td>0.281425</td>\n",
       "      <td>0.282192</td>\n",
       "      <td>...</td>\n",
       "      <td>0.278475</td>\n",
       "      <td>0.277875</td>\n",
       "      <td>0.288292</td>\n",
       "      <td>0.279458</td>\n",
       "      <td>0.278892</td>\n",
       "      <td>0.279075</td>\n",
       "      <td>0.279475</td>\n",
       "      <td>0.282808</td>\n",
       "      <td>0.278875</td>\n",
       "      <td>0.0</td>\n",
       "    </tr>\n",
       "    <tr>\n",
       "      <th>std</th>\n",
       "      <td>0.233778</td>\n",
       "      <td>0.239273</td>\n",
       "      <td>0.234640</td>\n",
       "      <td>0.237946</td>\n",
       "      <td>0.243406</td>\n",
       "      <td>0.247159</td>\n",
       "      <td>0.235851</td>\n",
       "      <td>0.235851</td>\n",
       "      <td>0.236502</td>\n",
       "      <td>0.239272</td>\n",
       "      <td>...</td>\n",
       "      <td>0.233778</td>\n",
       "      <td>0.234780</td>\n",
       "      <td>0.245682</td>\n",
       "      <td>0.234518</td>\n",
       "      <td>0.240729</td>\n",
       "      <td>0.235613</td>\n",
       "      <td>0.238384</td>\n",
       "      <td>0.239866</td>\n",
       "      <td>0.234688</td>\n",
       "      <td>0.0</td>\n",
       "    </tr>\n",
       "    <tr>\n",
       "      <th>min</th>\n",
       "      <td>0.000000</td>\n",
       "      <td>0.000000</td>\n",
       "      <td>0.000000</td>\n",
       "      <td>0.000000</td>\n",
       "      <td>0.000000</td>\n",
       "      <td>0.000000</td>\n",
       "      <td>0.000000</td>\n",
       "      <td>0.000000</td>\n",
       "      <td>0.000000</td>\n",
       "      <td>0.000000</td>\n",
       "      <td>...</td>\n",
       "      <td>0.000000</td>\n",
       "      <td>0.000000</td>\n",
       "      <td>0.000000</td>\n",
       "      <td>0.000000</td>\n",
       "      <td>0.000000</td>\n",
       "      <td>0.000000</td>\n",
       "      <td>0.000000</td>\n",
       "      <td>0.000000</td>\n",
       "      <td>0.000000</td>\n",
       "      <td>0.0</td>\n",
       "    </tr>\n",
       "    <tr>\n",
       "      <th>25%</th>\n",
       "      <td>0.000000</td>\n",
       "      <td>0.000000</td>\n",
       "      <td>0.000000</td>\n",
       "      <td>0.000000</td>\n",
       "      <td>0.000000</td>\n",
       "      <td>0.000000</td>\n",
       "      <td>0.000000</td>\n",
       "      <td>0.000000</td>\n",
       "      <td>0.000000</td>\n",
       "      <td>0.000000</td>\n",
       "      <td>...</td>\n",
       "      <td>0.000000</td>\n",
       "      <td>0.000000</td>\n",
       "      <td>0.000000</td>\n",
       "      <td>0.000000</td>\n",
       "      <td>0.000000</td>\n",
       "      <td>0.000000</td>\n",
       "      <td>0.000000</td>\n",
       "      <td>0.000000</td>\n",
       "      <td>0.000000</td>\n",
       "      <td>0.0</td>\n",
       "    </tr>\n",
       "    <tr>\n",
       "      <th>50%</th>\n",
       "      <td>0.425000</td>\n",
       "      <td>0.408333</td>\n",
       "      <td>0.416667</td>\n",
       "      <td>0.425000</td>\n",
       "      <td>0.400000</td>\n",
       "      <td>0.375000</td>\n",
       "      <td>0.416667</td>\n",
       "      <td>0.416667</td>\n",
       "      <td>0.425000</td>\n",
       "      <td>0.408333</td>\n",
       "      <td>...</td>\n",
       "      <td>0.425000</td>\n",
       "      <td>0.416667</td>\n",
       "      <td>0.383333</td>\n",
       "      <td>0.433333</td>\n",
       "      <td>0.400000</td>\n",
       "      <td>0.425000</td>\n",
       "      <td>0.416667</td>\n",
       "      <td>0.416667</td>\n",
       "      <td>0.425000</td>\n",
       "      <td>0.0</td>\n",
       "    </tr>\n",
       "    <tr>\n",
       "      <th>75%</th>\n",
       "      <td>0.475000</td>\n",
       "      <td>0.491667</td>\n",
       "      <td>0.475000</td>\n",
       "      <td>0.491667</td>\n",
       "      <td>0.500000</td>\n",
       "      <td>0.525000</td>\n",
       "      <td>0.466667</td>\n",
       "      <td>0.466667</td>\n",
       "      <td>0.483333</td>\n",
       "      <td>0.485417</td>\n",
       "      <td>...</td>\n",
       "      <td>0.475000</td>\n",
       "      <td>0.466667</td>\n",
       "      <td>0.516667</td>\n",
       "      <td>0.475000</td>\n",
       "      <td>0.466667</td>\n",
       "      <td>0.475000</td>\n",
       "      <td>0.466667</td>\n",
       "      <td>0.483333</td>\n",
       "      <td>0.475000</td>\n",
       "      <td>0.0</td>\n",
       "    </tr>\n",
       "    <tr>\n",
       "      <th>max</th>\n",
       "      <td>0.608333</td>\n",
       "      <td>0.641667</td>\n",
       "      <td>0.650000</td>\n",
       "      <td>0.608333</td>\n",
       "      <td>0.683333</td>\n",
       "      <td>0.608333</td>\n",
       "      <td>0.666667</td>\n",
       "      <td>0.666667</td>\n",
       "      <td>0.625000</td>\n",
       "      <td>0.666667</td>\n",
       "      <td>...</td>\n",
       "      <td>0.608333</td>\n",
       "      <td>0.658333</td>\n",
       "      <td>0.608333</td>\n",
       "      <td>0.608333</td>\n",
       "      <td>0.708333</td>\n",
       "      <td>0.650000</td>\n",
       "      <td>0.683333</td>\n",
       "      <td>0.666667</td>\n",
       "      <td>0.633333</td>\n",
       "      <td>0.0</td>\n",
       "    </tr>\n",
       "  </tbody>\n",
       "</table>\n",
       "<p>8 rows × 1000 columns</p>\n",
       "</div>"
      ],
      "text/plain": [
       "               0            1            2            3            4    \\\n",
       "count  1000.000000  1000.000000  1000.000000  1000.000000  1000.000000   \n",
       "mean      0.278475     0.283375     0.277308     0.282992     0.284775   \n",
       "std       0.233778     0.239273     0.234640     0.237946     0.243406   \n",
       "min       0.000000     0.000000     0.000000     0.000000     0.000000   \n",
       "25%       0.000000     0.000000     0.000000     0.000000     0.000000   \n",
       "50%       0.425000     0.408333     0.416667     0.425000     0.400000   \n",
       "75%       0.475000     0.491667     0.475000     0.491667     0.500000   \n",
       "max       0.608333     0.641667     0.650000     0.608333     0.683333   \n",
       "\n",
       "               5            6            7            8            9    \\\n",
       "count  1000.000000  1000.000000  1000.000000  1000.000000  1000.000000   \n",
       "mean      0.289075     0.278658     0.278658     0.281425     0.282192   \n",
       "std       0.247159     0.235851     0.235851     0.236502     0.239272   \n",
       "min       0.000000     0.000000     0.000000     0.000000     0.000000   \n",
       "25%       0.000000     0.000000     0.000000     0.000000     0.000000   \n",
       "50%       0.375000     0.416667     0.416667     0.425000     0.408333   \n",
       "75%       0.525000     0.466667     0.466667     0.483333     0.485417   \n",
       "max       0.608333     0.666667     0.666667     0.625000     0.666667   \n",
       "\n",
       "        ...            990          991          992          993  \\\n",
       "count   ...    1000.000000  1000.000000  1000.000000  1000.000000   \n",
       "mean    ...       0.278475     0.277875     0.288292     0.279458   \n",
       "std     ...       0.233778     0.234780     0.245682     0.234518   \n",
       "min     ...       0.000000     0.000000     0.000000     0.000000   \n",
       "25%     ...       0.000000     0.000000     0.000000     0.000000   \n",
       "50%     ...       0.425000     0.416667     0.383333     0.433333   \n",
       "75%     ...       0.475000     0.466667     0.516667     0.475000   \n",
       "max     ...       0.608333     0.658333     0.608333     0.608333   \n",
       "\n",
       "               994          995          996          997          998     999  \n",
       "count  1000.000000  1000.000000  1000.000000  1000.000000  1000.000000  1000.0  \n",
       "mean      0.278892     0.279075     0.279475     0.282808     0.278875     0.0  \n",
       "std       0.240729     0.235613     0.238384     0.239866     0.234688     0.0  \n",
       "min       0.000000     0.000000     0.000000     0.000000     0.000000     0.0  \n",
       "25%       0.000000     0.000000     0.000000     0.000000     0.000000     0.0  \n",
       "50%       0.400000     0.425000     0.416667     0.416667     0.425000     0.0  \n",
       "75%       0.466667     0.475000     0.466667     0.483333     0.475000     0.0  \n",
       "max       0.708333     0.650000     0.683333     0.666667     0.633333     0.0  \n",
       "\n",
       "[8 rows x 1000 columns]"
      ]
     },
     "execution_count": 12,
     "metadata": {},
     "output_type": "execute_result"
    }
   ],
   "source": [
    "val.describe()"
   ]
  },
  {
   "cell_type": "code",
   "execution_count": 13,
   "metadata": {
    "collapsed": false
   },
   "outputs": [
    {
     "name": "stdout",
     "output_type": "stream",
     "text": [
      "<class 'pandas.core.frame.DataFrame'>\n",
      "RangeIndex: 1000 entries, 0 to 999\n",
      "Columns: 1000 entries, 0 to 999\n",
      "dtypes: float64(1000)\n",
      "memory usage: 7.6 MB\n"
     ]
    }
   ],
   "source": [
    "val.info()\n"
   ]
  },
  {
   "cell_type": "code",
   "execution_count": null,
   "metadata": {
    "collapsed": true
   },
   "outputs": [],
   "source": []
  }
 ],
 "metadata": {
  "kernelspec": {
   "display_name": "Python [Root]",
   "language": "python",
   "name": "Python [Root]"
  },
  "language_info": {
   "codemirror_mode": {
    "name": "ipython",
    "version": 2
   },
   "file_extension": ".py",
   "mimetype": "text/x-python",
   "name": "python",
   "nbconvert_exporter": "python",
   "pygments_lexer": "ipython2",
   "version": "2.7.11"
  }
 },
 "nbformat": 4,
 "nbformat_minor": 0
}
